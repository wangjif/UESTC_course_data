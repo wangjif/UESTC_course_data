{
 "cells": [
  {
   "cell_type": "markdown",
   "metadata": {},
   "source": [
    "# Anaconda介绍、安装及Jupyter Notebook使用教程\n",
    "***\n",
    "\n",
    "1. Python介绍\n",
    "2. Anaconda及Miniconda介绍\n",
    "3. Miniconda安装\n",
    "4. 基于conda创建虚拟环境\n",
    "5. Jupyter Notebook使用教程\n",
    "\n",
    "### 1. Python介绍\n",
    "***\n",
    "\n",
    "Python是一种面向对象的解释型计算机程序设计语言，其使用，具有跨平台的特点，可以在Linux、macOS以及Windows系统中搭建环境并使用，其编写的代码在不同平台上运行时，几乎不需要做较大的改动，使用者无不受益于它的便捷性。\n",
    "\n",
    "此外，Python的强大之处在于它的应用领域范围之广，遍及人工智能、科学计算、Web开发、系统运维、大数据及云计算、金融、游戏开发等。实现其强大功能的前提，就是Python具有数量庞大且功能相对完善的标准库和第三方库。通过对库的引用，能够实现对不同领域业务的开发。然而，正是由于库的数量庞大，对于管理这些库以及对库作及时的维护成为既重要但复杂度又高的事情。\n",
    "\n",
    "### 2. Anaconda及Miniconda介绍\n",
    "***\n",
    "\n",
    "#### Anaconda\n",
    "Anaconda（[官方网站](https://www.anaconda.com/)）就是可以便捷获取包且对包能够进行管理，同时对环境可以统一管理的发行版本。Anaconda包含了conda、Python在内的超过180个科学包及其依赖项。\n",
    "\n",
    "Anaconda最为有用的功能就是通过**conda**实现对虚拟环境管理，可以对不同的项目分别配置对应的运行环境（虚拟环境），不用担心安装的不同Python库版本之间的兼容问题。\n",
    "\n",
    "#### Miniconda\n",
    "[Miniconda](https://conda.io/en/latest/miniconda.html)是一款小巧的python虚拟环境管理工具，安装包大约只有50M多点，其安装程序中包含conda软件包管理器和Python。对于我们来说，安装Miniconda同样可以实现通过**conda**实现对虚拟环境管理\n",
    "\n",
    "### 3. Miniconda的安装\n",
    "***\n",
    "\n",
    "通过https://conda.io/en/latest/miniconda.html 下载Miniconda的安装包，支持Windows，MacOS及Linux平台，推荐下载64-bit。\n",
    "<img src=\"./fig/miniconda_download.png\">\n",
    "\n",
    "在安装过程中，建议勾选“添加miniconda3到环境变量”\n",
    "<img src=\"./fig/miniconda_download_ps.png\" width=\"50%\">\n",
    "\n",
    "### 4. 基于conda创建虚拟环境\n",
    "***\n",
    "1. 打开cmd（Win + R，输入cmd）\n",
    "2. 创建python版本为3.8的虚拟环境：`conda create -n <venv_name> python=3.8`，`<venv_name>`为用户自定义的虚拟环境名称。运行界面如下，输入y确定安装。\n",
    "<img src=\"./fig/conda_venv.png\" width=\"80%\">\n",
    "3. 虚拟环境的激活\n",
    "``` shell\n",
    "To activate this environment, use\n",
    "    $ conda activate cv\n",
    "To deactivate an active environment, use\n",
    "    $ conda deactivate\n",
    "```\n",
    "\n",
    "### 5. Jupyter Notebook使用教程\n",
    "***\n",
    "#### Jupyter Notebook\n",
    "Jupyter Notebook是基于网页的用于交互计算的应用程序。其可被应用于全过程计算：开发、文档编写、运行代码和展示结果。\n",
    "\n",
    "简而言之，Jupyter Notebook是以网页的形式打开，可以在网页页面中**直接**编写代码和运行代码，代码的运行结果也会**直接**在代码块下显示， 交互性很强。如在编程过程中需要编写说明文档（Markdown），可在同一个页面中直接编写，便于作及时的说明和解释。\n",
    "\n",
    "#### Jupyter Notebook的安装\n",
    "1. 在cmd命令行输入`conda activate cv`来激活刚刚我们建立的虚拟环境\n",
    "2. 通过conda在虚拟环境`cv`中安装jupyter notebook：`conda install jupyter notebook`,运行界面如下，输入y确定安装。\n",
    "<img src=\"./fig/jupyter.png\" width=\"70%\">\n",
    "\n",
    "#### Jupyter Notebook的启动\n",
    "在命令行输入`jupyter notebook`来启动jupyter notebook，输入完后会自动在默认浏览器中打开。**注意**，jupyter notebook会打开cmd的当前路径，在启动jupyter notebook之前要先更改cmd的当前路径到目标项目路径。\n",
    "<img src='./fig/jupyter_start.png'>"
   ]
  }
 ],
 "metadata": {
  "interpreter": {
   "hash": "f5836c0e9ac2907be5b96d97b69db360726d421e136350779fe132c05054dc5f"
  },
  "kernelspec": {
   "display_name": "Python 3",
   "language": "python",
   "name": "python3"
  },
  "language_info": {
   "codemirror_mode": {
    "name": "ipython",
    "version": 3
   },
   "file_extension": ".py",
   "mimetype": "text/x-python",
   "name": "python",
   "nbconvert_exporter": "python",
   "pygments_lexer": "ipython3",
   "version": "3.7.6"
  }
 },
 "nbformat": 4,
 "nbformat_minor": 2
}
