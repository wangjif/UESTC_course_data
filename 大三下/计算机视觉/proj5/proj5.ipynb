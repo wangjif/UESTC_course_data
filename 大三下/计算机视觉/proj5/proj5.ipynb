{
 "metadata": {
  "language_info": {
   "codemirror_mode": {
    "name": "ipython",
    "version": 3
   },
   "file_extension": ".py",
   "mimetype": "text/x-python",
   "name": "python",
   "nbconvert_exporter": "python",
   "pygments_lexer": "ipython3",
   "version": "3.7.7"
  },
  "orig_nbformat": 2,
  "kernelspec": {
   "name": "python3",
   "display_name": "Python 3.7.7 64-bit ('pytorch': conda)",
   "metadata": {
    "interpreter": {
     "hash": "eb031bbce033fa812dcec88de62f5abea6a352f76cdf43a5d1f21e2ea96289b4"
    }
   }
  }
 },
 "nbformat": 4,
 "nbformat_minor": 2,
 "cells": [
  {
   "cell_type": "markdown",
   "source": [
    "# Project V. Fish Detection with Deep Learning\n",
    "1. Split Train and Val dataset\n",
    "2. Train a detection model based on YOLOv3-tiny\n",
    "3. Evaluate your model\n",
    "4. Use your model to detect fish from images in data/samples"
   ],
   "metadata": {
    "collapsed": false,
    "pycharm": {
     "name": "#%% md\n"
    }
   }
  },
  {
   "source": [
    "## Setup\n",
    "Please install required packages and make sure the version are valid \n",
    "\n",
    "pip install -r requirements.txt"
   ],
   "cell_type": "markdown",
   "metadata": {
    "pycharm": {
     "name": "#%% md\n"
    }
   }
  },
  {
   "cell_type": "code",
   "execution_count": 1,
   "metadata": {
    "pycharm": {
     "name": "#%%\n"
    }
   },
   "outputs": [],
   "source": [
    "from __future__ import division\n",
    "\n",
    "import numpy\n",
    "from utils.logger import *\n",
    "from utils.utils import *\n",
    "from utils.datasets import *\n",
    "from utils.augmentations import *\n",
    "from utils.transforms import *\n",
    "from utils.parse_config import *\n",
    "from utils.test import evaluate\n",
    "from utils.loss import compute_loss\n",
    "from utils.models import *\n",
    "\n",
    "from terminaltables import AsciiTable\n",
    "from matplotlib.ticker import NullLocator\n",
    "\n",
    "import os\n",
    "import sys\n",
    "import time\n",
    "import datetime\n",
    "import argparse\n",
    "import tqdm\n",
    "\n",
    "import torch\n",
    "from torch.utils.data import DataLoader\n",
    "from torchvision import datasets\n",
    "from torchvision import transforms\n",
    "from torch.autograd import Variable\n",
    "import torch.optim as optim\n"
   ]
  },
  {
   "source": [
    "# Data Preprocess\n",
    "You should code this part first"
   ],
   "cell_type": "markdown",
   "metadata": {
    "pycharm": {
     "name": "#%% md\n"
    }
   }
  },
  {
   "cell_type": "code",
   "execution_count": 2,
   "metadata": {
    "pycharm": {
     "name": "#%%\n"
    }
   },
   "outputs": [],
   "source": [
    "#####################################################################################################\n",
    "#                                            Your Code                                              #\n",
    "#####################################################################################################\n",
    "# You should generate valid Train dataset and Val dataset.\n",
    "# Use data in data/custom/images and data/custom/labels to generate the path file train.txt and \n",
    "# val.txt in data/custom/\n",
    "# a qualified val dataset is smaller than the train dataset and \n",
    "# most time there are no overlapped data between two sets.\n",
    "\n",
    "data_path = os.path.join('data', 'custom', 'images')\n",
    "res_path = os.path.join('data', 'custom')\n",
    "files = os.listdir(data_path)\n",
    "id = 1\n",
    "os.remove(os.path.join(res_path, 'train.txt'))\n",
    "os.remove(os.path.join(res_path, 'valid.txt'))\n",
    "for file in files:\n",
    "    if id % 4 == 0:\n",
    "        with open(os.path.join(res_path, 'valid.txt'), 'a') as f:\n",
    "            f.write(os.path.join(data_path, file) + '\\n')\n",
    "        with open(os.path.join(res_path, 'train.txt'), 'a') as f:\n",
    "            f.write(os.path.join(data_path, file) + '\\n')\n",
    "    else:\n",
    "        with open(os.path.join(res_path, 'train.txt'), 'a') as f:\n",
    "            f.write(os.path.join(data_path, file) + '\\n')\n",
    "    id += 1\n",
    "\n",
    "\n",
    "\n",
    "\n",
    "\n",
    "\n",
    "#####################################################################################################\n",
    "#                                                End                                                #\n",
    "#####################################################################################################"
   ]
  },
  {
   "source": [
    "Make some config..."
   ],
   "cell_type": "markdown",
   "metadata": {
    "pycharm": {
     "name": "#%% md\n"
    }
   }
  },
  {
   "cell_type": "code",
   "execution_count": 3,
   "metadata": {
    "pycharm": {
     "name": "#%%\n"
    }
   },
   "outputs": [
    {
     "name": "stdout",
     "output_type": "stream",
     "text": [
      "data/custom/train.txt\n",
      "data/custom/valid.txt\n",
      "['Fish']\n"
     ]
    }
   ],
   "source": [
    "opt = {\n",
    "    \"epochs\": 50,\n",
    "    \"model_def\": \"config/yolov3-tiny.cfg\",\n",
    "    \"data_config\": \"config/custom.data\",\n",
    "    \"pretrained_weights\": \"\",\n",
    "    \"n_cpu\": 1,\n",
    "    \"img_size\": 416,\n",
    "    \"multiscale_training\": True,\n",
    "    \"detect_image_folder\": \"data/samples\"\n",
    "}\n",
    "device = torch.device(\"cuda\" if torch.cuda.is_available() else \"cpu\")\n",
    "os.makedirs(\"output\", exist_ok=True)\n",
    "os.makedirs(\"checkpoints\", exist_ok=True)\n",
    "# Get data configuration    \n",
    "data_config = parse_data_config(opt[\"data_config\"])\n",
    "train_path = data_config[\"train\"]\n",
    "valid_path = data_config[\"valid\"]\n",
    "class_names = load_classes(data_config[\"names\"])\n",
    "print(train_path)\n",
    "print(valid_path)\n",
    "print(class_names)"
   ]
  },
  {
   "source": [
    "use pytorch to generate our model and dataset"
   ],
   "cell_type": "markdown",
   "metadata": {
    "pycharm": {
     "name": "#%% md\n"
    }
   }
  },
  {
   "cell_type": "code",
   "execution_count": 4,
   "metadata": {
    "pycharm": {
     "name": "#%%\n"
    }
   },
   "outputs": [],
   "source": [
    "# Initiate model\n",
    "model = Darknet(opt[\"model_def\"]).to(device)\n",
    "model.apply(weights_init_normal)\n",
    "\n",
    "# If specified we start from checkpoint\n",
    "if opt[\"pretrained_weights\"] != \"\":\n",
    "    if opt[\"pretrained_weights\"].endswith(\".pth\"):\n",
    "        model.load_state_dict(torch.load(opt[\"pretrained_weights\"]))\n",
    "    else:\n",
    "        model.load_darknet_weights(opt[\"pretrained_weights\"])\n",
    "\n",
    "# Get dataloader\n",
    "dataset = ListDataset(train_path, multiscale=opt[\"multiscale_training\"], img_size=opt[\"img_size\"],\n",
    "                      transform=AUGMENTATION_TRANSFORMS)\n",
    "dataloader = torch.utils.data.DataLoader(\n",
    "    dataset,\n",
    "    batch_size=model.hyperparams['batch'] // model.hyperparams['subdivisions'],\n",
    "    shuffle=True,\n",
    "    # num_workers=opt[\"n_cpu\"],\n",
    "    pin_memory=True,\n",
    "    collate_fn=dataset.collate_fn,\n",
    ")\n",
    "\n",
    "if (model.hyperparams['optimizer'] in [None, \"adam\"]):\n",
    "    optimizer = torch.optim.Adam(\n",
    "        model.parameters(),\n",
    "        lr=model.hyperparams['learning_rate'],\n",
    "        weight_decay=model.hyperparams['decay'],\n",
    "    )\n",
    "elif (model.hyperparams['optimizer'] == \"sgd\"):\n",
    "    optimizer = torch.optim.SGD(\n",
    "        model.parameters(),\n",
    "        lr=model.hyperparams['learning_rate'],\n",
    "        weight_decay=model.hyperparams['decay'],\n",
    "        momentum=model.hyperparams['momentum'])\n",
    "else:\n",
    "    print(\"Unknown optimizer. Please choose between (adam, sgd).\")\n"
   ]
  },
  {
   "source": [
    "# Train your model!\n",
    "You are required to complete the DL project training steps (get data batch from dataloader, forward, compute the loss and backward)\n",
    "see more details in following comments."
   ],
   "cell_type": "markdown",
   "metadata": {
    "pycharm": {
     "name": "#%% md\n"
    }
   }
  },
  {
   "cell_type": "code",
   "execution_count": 5,
   "metadata": {
    "tags": [],
    "pycharm": {
     "name": "#%%\n"
    }
   },
   "outputs": [
    {
     "name": "stdout",
     "output_type": "stream",
     "text": [
      "Epoch:1, loss:0.2007865309715271\n",
      "Epoch:2, loss:0.17080873250961304\n",
      "Epoch:3, loss:0.22521547973155975\n",
      "Epoch:4, loss:0.16347791254520416\n",
      "Epoch:5, loss:0.16029654443264008\n",
      "Epoch:6, loss:0.4544885456562042\n",
      "Epoch:7, loss:0.25425630807876587\n",
      "Epoch:8, loss:0.5013631582260132\n",
      "Epoch:9, loss:0.2361803650856018\n",
      "Epoch:10, loss:0.17969642579555511\n",
      "Epoch:11, loss:0.509188175201416\n",
      "Epoch:12, loss:0.4566617012023926\n",
      "Epoch:13, loss:0.22353094816207886\n",
      "Epoch:14, loss:0.1903538852930069\n",
      "Epoch:15, loss:0.31509724259376526\n",
      "Epoch:16, loss:0.2340620458126068\n",
      "Epoch:17, loss:0.15219596028327942\n",
      "Epoch:18, loss:0.2099800556898117\n",
      "Epoch:19, loss:0.2794630527496338\n",
      "Epoch:20, loss:0.181960329413414\n",
      "Epoch:21, loss:0.804013192653656\n",
      "Epoch:22, loss:0.3129715025424957\n",
      "Epoch:23, loss:0.22195680439472198\n",
      "Epoch:24, loss:0.26359301805496216\n",
      "Epoch:25, loss:0.4767688810825348\n",
      "Epoch:26, loss:0.18741068243980408\n",
      "Epoch:27, loss:0.581952691078186\n",
      "Epoch:28, loss:0.21889112889766693\n",
      "Epoch:29, loss:0.10869461297988892\n",
      "Epoch:30, loss:0.4419025778770447\n",
      "Epoch:31, loss:0.1542842537164688\n",
      "Epoch:32, loss:0.22326329350471497\n",
      "Epoch:33, loss:0.17136195302009583\n",
      "Epoch:34, loss:0.20195931196212769\n",
      "Epoch:35, loss:0.26897627115249634\n",
      "Epoch:36, loss:0.12578167021274567\n",
      "Epoch:37, loss:0.2769423723220825\n",
      "Epoch:38, loss:0.26609864830970764\n",
      "Epoch:39, loss:0.3492703437805176\n",
      "Epoch:40, loss:0.36352354288101196\n",
      "Epoch:41, loss:0.2934911549091339\n",
      "Epoch:42, loss:0.3844507932662964\n",
      "Epoch:43, loss:0.21460814774036407\n",
      "Epoch:44, loss:0.49680015444755554\n",
      "Epoch:45, loss:0.2686895430088043\n",
      "Epoch:46, loss:0.13103654980659485\n",
      "Epoch:47, loss:0.5246517062187195\n",
      "Epoch:48, loss:0.17185384035110474\n",
      "Epoch:49, loss:0.21240203082561493\n",
      "Epoch:50, loss:0.40606430172920227\n"
     ]
    }
   ],
   "source": [
    "for epoch in range(opt[\"epochs\"]):\n",
    "    # print(\"\\n---- Training Model ----\")\n",
    "    model.train()\n",
    "    Tensor = torch.cuda.FloatTensor if torch.cuda.is_available() else torch.FloatTensor\n",
    "    #####################################################################################################\n",
    "    #                                            Your Code                                              #\n",
    "    #####################################################################################################\n",
    "    # Your code need to execute forward and backward steps.\n",
    "    # Use 'enumerate' to get a batch[_, images, targets]\n",
    "    # some helpful function\n",
    "    # - outputs = model.__call__(imgs)(use it by model(imgs))\n",
    "    # - loss, _ = cumpte_loss(outputs, targets, model)\n",
    "    # - loss.backward() (backward step)\n",
    "    # - optimizer.step() (execute params updating)\n",
    "    # - optimizer.zero_grad() (reset gradients)\n",
    "    # if you want to see how loss changes in each mini-batch step:\n",
    "    # -eg print(f'Epoch:{epoch+1}, Step{step+1}/{len(dataloader)}, loss:{loss.item()}')\n",
    "\n",
    "    for _, data in enumerate(dataloader):\n",
    "        imgs = Variable(data[1].type(Tensor))\n",
    "        targets = Variable(data[2].type(Tensor))\n",
    "        imgs = imgs.to(device)\n",
    "        targets = targets.to(device)\n",
    "        outputs = model(imgs)\n",
    "        loss, _ = compute_loss(outputs, targets, model)\n",
    "        optimizer.zero_grad()\n",
    "        loss.backward()\n",
    "        optimizer.step()\n",
    "    print(f'Epoch:{epoch + 1}, loss:{loss.item()}')\n",
    "\n",
    "    #####################################################################################################\n",
    "    #                                                End                                                #\n",
    "    #####################################################################################################\n",
    "\n"
   ]
  },
  {
   "source": [
    "# Evaluate and save current model"
   ],
   "cell_type": "markdown",
   "metadata": {
    "pycharm": {
     "name": "#%% md\n"
    }
   }
  },
  {
   "cell_type": "code",
   "execution_count": 6,
   "metadata": {
    "pycharm": {
     "name": "#%%\n"
    }
   },
   "outputs": [
    {
     "name": "stdout",
     "output_type": "stream",
     "text": [
      "\n",
      "---- Evaluating Model ----\n"
     ]
    },
    {
     "name": "stderr",
     "output_type": "stream",
     "text": [
      "Detecting objects:   0%|          | 0/30 [00:00<?, ?it/s]/opt/anaconda3/envs/jsjsj/lib/python3.8/site-packages/torch/functional.py:568: UserWarning: torch.meshgrid: in an upcoming release, it will be required to pass the indexing argument. (Triggered internally at  /Users/distiller/project/pytorch/aten/src/ATen/native/TensorShape.cpp:2228.)\n",
      "  return _VF.meshgrid(tensors, **kwargs)  # type: ignore[attr-defined]\n",
      "Detecting objects: 100%|██████████| 30/30 [00:12<00:00,  2.40it/s]\n",
      "Computing AP: 100%|██████████| 1/1 [00:00<00:00, 1144.42it/s]"
     ]
    },
    {
     "name": "stdout",
     "output_type": "stream",
     "text": [
      "['Fish'] 0\n",
      "+-------+------------+---------+\n",
      "| Index | Class name | AP      |\n",
      "+-------+------------+---------+\n",
      "| 0     | Fish       | 0.18448 |\n",
      "+-------+------------+---------+\n",
      "---- mAP 0.18447890739955408\n"
     ]
    },
    {
     "name": "stderr",
     "output_type": "stream",
     "text": [
      "\n"
     ]
    }
   ],
   "source": [
    "print(\"\\n---- Evaluating Model ----\")\n",
    "# Evaluate the model on the validation set\n",
    "metrics_output = evaluate(\n",
    "    model,\n",
    "    path=valid_path,\n",
    "    iou_thres=0.5,\n",
    "    conf_thres=0.1,\n",
    "    nms_thres=0.5,\n",
    "    img_size=opt[\"img_size\"],\n",
    "    batch_size=model.hyperparams['batch'] // model.hyperparams['subdivisions'],\n",
    ")\n",
    "\n",
    "if metrics_output is not None:\n",
    "    precision, recall, AP, f1, ap_class = metrics_output\n",
    "    evaluation_metrics = [\n",
    "        (\"validation/precision\", precision.mean()),\n",
    "        (\"validation/recall\", recall.mean()),\n",
    "        (\"validation/mAP\", AP.mean()),\n",
    "        (\"validation/f1\", f1.mean()),\n",
    "    ]\n",
    "    # Print class APs and mAP\n",
    "    ap_table = [[\"Index\", \"Class name\", \"AP\"]]\n",
    "    for i, c in enumerate(ap_class):\n",
    "        print(class_names, c)\n",
    "        ap_table += [[c, class_names[c], \"%.5f\" % AP[i]]]\n",
    "    print(AsciiTable(ap_table).table)\n",
    "    print(f\"---- mAP {AP.mean()}\")\n",
    "else:\n",
    "    print(\"---- mAP not measured (no detections found by model)\")\n",
    "torch.save(model.state_dict(), f\"checkpoints/yolov3-tiny_ckpt_%d.pth\" % epoch)"
   ]
  },
  {
   "source": [
    "# Detect and visualize results"
   ],
   "cell_type": "markdown",
   "metadata": {
    "pycharm": {
     "name": "#%% md\n"
    }
   }
  },
  {
   "cell_type": "code",
   "execution_count": 7,
   "metadata": {
    "pycharm": {
     "name": "#%%\n"
    }
   },
   "outputs": [
    {
     "name": "stdout",
     "output_type": "stream",
     "text": [
      "\n",
      "Performing object detection:\n",
      "\n",
      "Saving images:\n",
      "(0) Image: 'data/samples/test (1).jpg'\n",
      "\t+ Label: Fish, Conf: 0.22565\n",
      "(1) Image: 'data/samples/test (10).jpg'\n",
      "(2) Image: 'data/samples/test (11).jpg'\n",
      "\t+ Label: Fish, Conf: 0.33025\n",
      "\t+ Label: Fish, Conf: 0.21102\n",
      "(3) Image: 'data/samples/test (2).jpg'\n",
      "\t+ Label: Fish, Conf: 0.26019\n",
      "\t+ Label: Fish, Conf: 0.21604\n",
      "\t+ Label: Fish, Conf: 0.20272\n",
      "(4) Image: 'data/samples/test (3).jpg'\n",
      "(5) Image: 'data/samples/test (4).jpg'\n",
      "(6) Image: 'data/samples/test (5).jpg'\n",
      "\t+ Label: Fish, Conf: 0.39646\n",
      "\t+ Label: Fish, Conf: 0.39193\n",
      "\t+ Label: Fish, Conf: 0.35702\n",
      "\t+ Label: Fish, Conf: 0.35490\n",
      "\t+ Label: Fish, Conf: 0.35178\n",
      "\t+ Label: Fish, Conf: 0.33870\n",
      "\t+ Label: Fish, Conf: 0.32759\n",
      "\t+ Label: Fish, Conf: 0.32286\n",
      "\t+ Label: Fish, Conf: 0.30794\n",
      "\t+ Label: Fish, Conf: 0.27533\n",
      "\t+ Label: Fish, Conf: 0.25366\n",
      "\t+ Label: Fish, Conf: 0.25199\n",
      "\t+ Label: Fish, Conf: 0.24369\n",
      "\t+ Label: Fish, Conf: 0.24283\n",
      "\t+ Label: Fish, Conf: 0.23104\n",
      "\t+ Label: Fish, Conf: 0.22059\n",
      "(7) Image: 'data/samples/test (6).jpg'\n",
      "(8) Image: 'data/samples/test (7).jpg'\n",
      "(9) Image: 'data/samples/test (8).jpg'\n",
      "(10) Image: 'data/samples/test (9).jpg'\n"
     ]
    },
    {
     "data": {
      "text/plain": "<Figure size 432x288 with 0 Axes>"
     },
     "metadata": {},
     "output_type": "display_data"
    },
    {
     "data": {
      "text/plain": "<Figure size 432x288 with 0 Axes>"
     },
     "metadata": {},
     "output_type": "display_data"
    },
    {
     "data": {
      "text/plain": "<Figure size 432x288 with 0 Axes>"
     },
     "metadata": {},
     "output_type": "display_data"
    },
    {
     "data": {
      "text/plain": "<Figure size 432x288 with 0 Axes>"
     },
     "metadata": {},
     "output_type": "display_data"
    },
    {
     "data": {
      "text/plain": "<Figure size 432x288 with 0 Axes>"
     },
     "metadata": {},
     "output_type": "display_data"
    },
    {
     "data": {
      "text/plain": "<Figure size 432x288 with 0 Axes>"
     },
     "metadata": {},
     "output_type": "display_data"
    },
    {
     "data": {
      "text/plain": "<Figure size 432x288 with 0 Axes>"
     },
     "metadata": {},
     "output_type": "display_data"
    },
    {
     "data": {
      "text/plain": "<Figure size 432x288 with 0 Axes>"
     },
     "metadata": {},
     "output_type": "display_data"
    },
    {
     "data": {
      "text/plain": "<Figure size 432x288 with 0 Axes>"
     },
     "metadata": {},
     "output_type": "display_data"
    },
    {
     "data": {
      "text/plain": "<Figure size 432x288 with 0 Axes>"
     },
     "metadata": {},
     "output_type": "display_data"
    },
    {
     "data": {
      "text/plain": "<Figure size 432x288 with 0 Axes>"
     },
     "metadata": {},
     "output_type": "display_data"
    }
   ],
   "source": [
    "model.eval()  # Set in evaluation mode\n",
    "dataloader = DataLoader(\n",
    "    ImageFolder(opt[\"detect_image_folder\"], transform=\n",
    "    transforms.Compose([DEFAULT_TRANSFORMS, Resize(opt[\"img_size\"])])),\n",
    "    batch_size=1,\n",
    "    shuffle=False,\n",
    ")\n",
    "Tensor = torch.cuda.FloatTensor if torch.cuda.is_available() else torch.FloatTensor\n",
    "imgs = []  # Stores image paths\n",
    "img_detections = []  # Stores detections for each image index\n",
    "print(\"\\nPerforming object detection:\")\n",
    "for batch_i, (img_paths, input_imgs) in enumerate(dataloader):\n",
    "    # Configure input\n",
    "    input_imgs = Variable(input_imgs.type(Tensor))\n",
    "    # Get detections\n",
    "    with torch.no_grad():\n",
    "        detections = model(input_imgs)\n",
    "        detections = non_max_suppression(detections, 0.2, 0.7)\n",
    "    imgs.extend(img_paths)\n",
    "    img_detections.extend(detections)\n",
    "# Bounding-box colors\n",
    "cmap = plt.get_cmap(\"tab20b\")\n",
    "colors = [cmap(i) for i in np.linspace(0, 1, 20)]\n",
    "print(\"\\nSaving images:\")\n",
    "# Iterate through images and save plot of detections\n",
    "for img_i, (path, detections) in enumerate(zip(imgs, img_detections)):\n",
    "    print(\"(%d) Image: '%s'\" % (img_i, path))\n",
    "    # Create plot\n",
    "    img = np.array(Image.open(path))\n",
    "    plt.figure()\n",
    "    fig, ax = plt.subplots(1)\n",
    "    ax.imshow(img)\n",
    "    # Draw bounding boxes and labels of detections\n",
    "    if detections is not None:\n",
    "        # Rescale boxes to original image\n",
    "        detections = detections.cpu()\n",
    "        detections = rescale_boxes(detections, opt[\"img_size\"], img.shape[:2])\n",
    "        unique_labels = detections[:, -1].cpu().unique()\n",
    "        n_cls_preds = len(unique_labels)\n",
    "        bbox_colors = random.sample(colors, n_cls_preds)\n",
    "        for x1, y1, x2, y2, cls_conf, cls_pred in detections:\n",
    "            print(\"\\t+ Label: %s, Conf: %.5f\" % (class_names[int(cls_pred)], cls_conf.item()))\n",
    "            box_w = x2 - x1\n",
    "            box_h = y2 - y1\n",
    "            color = bbox_colors[int(np.where(unique_labels == int(cls_pred))[0])]\n",
    "            # Create a Rectangle patch\n",
    "            bbox = patches.Rectangle((x1, y1), box_w, box_h, linewidth=2, edgecolor=color, facecolor=\"none\")\n",
    "            # Add the bbox to the plot\n",
    "            ax.add_patch(bbox)\n",
    "            # Add label\n",
    "            plt.text(\n",
    "                x1,\n",
    "                y1,\n",
    "                s=class_names[int(cls_pred)],\n",
    "                color=\"white\",\n",
    "                verticalalignment=\"top\",\n",
    "                bbox={\"color\": color, \"pad\": 0},\n",
    "            )\n",
    "    # Save generated image with detections\n",
    "    plt.axis(\"off\")\n",
    "    plt.gca().xaxis.set_major_locator(NullLocator())\n",
    "    plt.gca().yaxis.set_major_locator(NullLocator())\n",
    "    filename = os.path.basename(path).split(\".\")[0]\n",
    "    output_path = os.path.join(\"output\", f\"{filename}.jpg\")\n",
    "    plt.savefig(output_path, bbox_inches=\"tight\", pad_inches=0.0)\n",
    "    plt.close()"
   ]
  },
  {
   "cell_type": "code",
   "execution_count": 7,
   "metadata": {
    "pycharm": {
     "name": "#%%\n"
    }
   },
   "outputs": [],
   "source": []
  }
 ]
}